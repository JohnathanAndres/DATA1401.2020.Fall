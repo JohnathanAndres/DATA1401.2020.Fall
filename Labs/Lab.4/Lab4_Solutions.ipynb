{
  "nbformat": 4,
  "nbformat_minor": 0,
  "metadata": {
    "kernelspec": {
      "display_name": "Python 3",
      "language": "python",
      "name": "python3"
    },
    "language_info": {
      "codemirror_mode": {
        "name": "ipython",
        "version": 3
      },
      "file_extension": ".py",
      "mimetype": "text/x-python",
      "name": "python",
      "nbconvert_exporter": "python",
      "pygments_lexer": "ipython3",
      "version": "3.8.1"
    },
    "colab": {
      "name": "Lab4 Solutions",
      "provenance": []
    }
  },
  "cells": [
    {
      "cell_type": "markdown",
      "metadata": {
        "id": "0SPxGexu5pGn"
      },
      "source": [
        "## Lab 4\n",
        "\n",
        "[![Open In Colab](https://colab.research.google.com/assets/colab-badge.svg)](https://colab.research.google.com/github//afarbin/DATA1401-Spring-2020/blob/master/Labs/Lab-4/Lab-4.ipynb)\n",
        "\n",
        "In this lab we will become familiar with distributions, histograms, and functional programming. \n",
        "\n",
        "\n",
        "### Uniform Distribution\n",
        "Lets start with generating some fake random data. You can get a random number between 0 and 1 using the python random module as follow:"
      ]
    },
    {
      "cell_type": "code",
      "metadata": {
        "id": "NQenvKdf5pGo",
        "outputId": "53db8bd6-5b37-4c70-b4bb-40e97a004e7a",
        "colab": {
          "base_uri": "https://localhost:8080/",
          "height": 34
        }
      },
      "source": [
        "import random\n",
        "x=random.random()\n",
        "print(\"The Value of x is\", x)"
      ],
      "execution_count": null,
      "outputs": [
        {
          "output_type": "stream",
          "text": [
            "The Value of x is 0.013918546315553448\n"
          ],
          "name": "stdout"
        }
      ]
    },
    {
      "cell_type": "markdown",
      "metadata": {
        "id": "RZWceIov5pGu"
      },
      "source": [
        "Everytime you call random, you will get a new number.\n",
        "\n",
        "*Exercise 1:* Using random, write a function `generate_uniform(N, mymin, mymax)`, that returns a python list containing N random numbers between specified minimum and maximum value. Note that you may want to quickly work out on paper how to turn numbers between 0 and 1 to between other values. "
      ]
    },
    {
      "cell_type": "code",
      "metadata": {
        "id": "tDmHlaOy5pGv"
      },
      "source": [
        "# Skeleton\n",
        "import random\n",
        "def generate_uniform(N,x_min,x_max):\n",
        "    out = []\n",
        "    x=random.random()\n",
        "    ### BEGIN SOLUTION\n",
        "    #x=(xmax-xmin)xnot+xmin Our Scaling and Shifting equation\n",
        "    # Fill in your solution here\n",
        "    for i in range(N):\n",
        "      x=random.random()\n",
        "      out.append((x_max-x_min)*x+x_min)        \n",
        "    \n",
        "    ### END SOLUTION\n",
        "    return out"
      ],
      "execution_count": 82,
      "outputs": []
    },
    {
      "cell_type": "code",
      "metadata": {
        "id": "_awCrmbt5pGy",
        "outputId": "76289051-f4c4-4627-c793-340bbdc250a5",
        "colab": {
          "base_uri": "https://localhost:8080/",
          "height": 101
        }
      },
      "source": [
        "## Test your solution here\n",
        "data=generate_uniform(1000,-10,10)\n",
        "print (\"Data Type:\", type(data))\n",
        "print (\"Data Length:\", len(data))\n",
        "if len(data)>0: \n",
        "    print (\"Type of Data Contents:\", type(data[0]))\n",
        "    print (\"Data Minimum:\", min(data))\n",
        "    print (\"Data Maximum:\", max(data))"
      ],
      "execution_count": 119,
      "outputs": [
        {
          "output_type": "stream",
          "text": [
            "Data Type: <class 'list'>\n",
            "Data Length: 1000\n",
            "Type of Data Contents: <class 'float'>\n",
            "Data Minimum: -9.933508413375751\n",
            "Data Maximum: 9.962615018442673\n"
          ],
          "name": "stdout"
        }
      ]
    },
    {
      "cell_type": "markdown",
      "metadata": {
        "id": "KS2kWfIC5pG6"
      },
      "source": [
        "*Exercise 2a:* \n",
        "Write a function that computes the mean of values in a list."
      ]
    },
    {
      "cell_type": "code",
      "metadata": {
        "id": "adVXhipP5pG7"
      },
      "source": [
        "# Skeleton\n",
        "def mean(Data):\n",
        "    m=0.\n",
        "    \n",
        "    ### BEGIN SOLUTION\n",
        "    for i in range(len(Data)):\n",
        "      m=m+Data[i]\n",
        "          \n",
        "    m=m/len(Data)\n",
        "    ### END SOLUTION\n",
        "    \n",
        "    return m"
      ],
      "execution_count": 84,
      "outputs": []
    },
    {
      "cell_type": "code",
      "metadata": {
        "id": "3Vy4YR3f5pG_",
        "outputId": "f6fad649-69b7-44b0-f221-5b080ed567dc",
        "colab": {
          "base_uri": "https://localhost:8080/",
          "height": 34
        }
      },
      "source": [
        "# Test your solution here\n",
        "print (\"Mean of Data:\", mean(data))"
      ],
      "execution_count": 85,
      "outputs": [
        {
          "output_type": "stream",
          "text": [
            "Mean of Data: 0.3193105407107082\n"
          ],
          "name": "stdout"
        }
      ]
    },
    {
      "cell_type": "markdown",
      "metadata": {
        "id": "bES0Y89e5pHC"
      },
      "source": [
        "*Exercise 2b:* \n",
        "Write a function that computes the variance of values in a list."
      ]
    },
    {
      "cell_type": "code",
      "metadata": {
        "id": "BInLFbEv5pHD"
      },
      "source": [
        "# Skeleton\n",
        "def variance(Data):\n",
        "    v=0.\n",
        "    \n",
        "    ### BEGIN SOLUTION\n",
        "\n",
        "    for i in range(len(Data)):\n",
        "      v=v+(Data[i]-mean(Data))**2\n",
        "    v=v/(len(Data)-1)\n",
        "\n",
        "    \n",
        "    ### END SOLUTION\n",
        "    \n",
        "    return v"
      ],
      "execution_count": 86,
      "outputs": []
    },
    {
      "cell_type": "code",
      "metadata": {
        "id": "e_9Ha2X65pHH",
        "outputId": "296fa80c-1d87-4b2a-dbe1-e6465c15d8b6",
        "colab": {
          "base_uri": "https://localhost:8080/",
          "height": 34
        }
      },
      "source": [
        "# Test your solution here\n",
        "\n",
        "print (\"Variance of Data:\", variance(data))\n"
      ],
      "execution_count": 87,
      "outputs": [
        {
          "output_type": "stream",
          "text": [
            "Variance of Data: 32.65785299477051\n"
          ],
          "name": "stdout"
        }
      ]
    },
    {
      "cell_type": "markdown",
      "metadata": {
        "id": "CREu2CNA5pHL"
      },
      "source": [
        "## Histogramming"
      ]
    },
    {
      "cell_type": "markdown",
      "metadata": {
        "id": "l4XdsmHo5pHM"
      },
      "source": [
        "*Exercise 3:* Write a function that bins the data so that you can create a histogram. An example of how to implement histogramming is the following logic:\n",
        "\n",
        "* User inputs a list of values `x` and optionally `n_bins` which defaults to 10.\n",
        "* If not supplied, find the minimum and maximum (`x_min`,`x_max`) of the values in x.\n",
        "* Determine the bin size (`bin_size`) by dividing the range of the function by the number of bins.\n",
        "* Create an empty list of zeros of size `n_bins`, call it `hist`.\n",
        "* Loop over the values in `x`\n",
        "    * Loop over the values in `hist` with index `i`:\n",
        "        * If x is between `x_min+i*bin_size` and `x_min+(i+1)*bin_size`, increment `hist[i].` \n",
        "        * For efficiency, try to use continue to goto the next bin and data point.\n",
        "* Return `hist` and the list corresponding of the bin edges (i.e. of `x_min+i*bin_size`).    "
      ]
    },
    {
      "cell_type": "code",
      "metadata": {
        "id": "PGKWaVX35pHN"
      },
      "source": [
        "# Solution\n",
        "def histogram(x,n_bins=10,x_min=None,x_max=None):\n",
        "    \n",
        "    ### BEGIN SOLUTION\n",
        "    if x_min==None:\n",
        "      x_min=min(x)\n",
        "    if x_max==None:\n",
        "      x_max=max(x)\n",
        "\n",
        "    bin_size=(x_max-x_min)/n_bins\n",
        "    hist=[0 for i in range(n_bins)]\n",
        "    #for the bins i am going to include the data points on the edges of the bins to only inlcude the lower bound \n",
        "    #for example if a value is on the edge of a bin i am going to include it in the lower edge to account for the overestimation\n",
        "    for j in range(len(x)):\n",
        "      for k in range(n_bins):\n",
        "        if x_min+k*bin_size<=x[j] and x[j]<x_min+(k+1)*bin_size:\n",
        "          hist[k]+=1\n",
        "    bin_edges=list()\n",
        "\n",
        "    for l in range(n_bins+1):  \n",
        "      bin_edges.append(x_min+l*bin_size)\n",
        "    \n",
        "\n",
        "\n",
        "           \n",
        "    \n",
        "    ### END SOLUTION\n",
        "\n",
        "    return hist,bin_edges"
      ],
      "execution_count": 88,
      "outputs": []
    },
    {
      "cell_type": "code",
      "metadata": {
        "id": "Y9tRG33n5pHQ",
        "outputId": "426e8ff9-2bb2-43d9-efae-691ba0544bf7",
        "colab": {
          "base_uri": "https://localhost:8080/",
          "height": 70
        }
      },
      "source": [
        "# Test your solution here\n",
        "h,b=histogram(data,100)\n",
        "print(h)\n",
        "print(b)\n"
      ],
      "execution_count": 89,
      "outputs": [
        {
          "output_type": "stream",
          "text": [
            "[10, 9, 15, 8, 9, 9, 10, 9, 4, 9, 9, 6, 11, 8, 10, 8, 9, 7, 13, 9, 8, 7, 11, 8, 12, 6, 4, 13, 6, 9, 9, 10, 8, 13, 14, 7, 6, 10, 13, 11, 10, 10, 8, 17, 8, 11, 10, 11, 11, 6, 8, 20, 13, 17, 19, 5, 15, 8, 8, 12, 11, 9, 9, 6, 11, 7, 4, 12, 8, 3, 14, 18, 9, 9, 9, 11, 7, 7, 7, 10, 13, 7, 14, 17, 8, 12, 14, 14, 13, 10, 15, 8, 6, 10, 16, 10, 9, 9, 10, 10]\n",
            "[-9.994715604222238, -9.795061202321156, -9.595406800420072, -9.39575239851899, -9.196097996617908, -8.996443594716826, -8.796789192815742, -8.59713479091466, -8.397480389013579, -8.197825987112495, -7.998171585211413, -7.798517183310331, -7.598862781409248, -7.399208379508165, -7.199553977607083, -6.999899575706001, -6.800245173804918, -6.6005907719038355, -6.4009363700027535, -6.2012819681016715, -6.001627566200589, -5.801973164299506, -5.602318762398424, -5.402664360497341, -5.203009958596258, -5.003355556695176, -4.803701154794093, -4.604046752893011, -4.4043923509919285, -4.2047379490908465, -4.005083547189764, -3.8054291452886817, -3.605774743387599, -3.406120341486516, -3.206465939585434, -3.006811537684351, -2.807157135783269, -2.6075027338821863, -2.4078483319811044, -2.2081939300800215, -2.0085395281789395, -1.8088851262778558, -1.6092307243767738, -1.4095763224756919, -1.20992192057461, -1.0102675186735262, -0.8106131167724442, -0.6109587148713622, -0.4113043129702785, -0.2116499110691965, -0.011995509168114538, 0.18765889273296743, 0.3873132946340512, 0.5869676965351331, 0.7866220984362151, 0.9862765003372971, 1.1859309022383808, 1.3855853041394628, 1.5852397060405448, 1.7848941079416285, 1.9845485098427105, 2.1842029117437924, 2.3838573136448744, 2.583511715545958, 2.78316611744704, 2.982820519348122, 3.182474921249206, 3.382129323150288, 3.5817837250513698, 3.7814381269524517, 3.9810925288535355, 4.1807469307546175, 4.380401332655699, 4.580055734556783, 4.779710136457865, 4.979364538358947, 5.179018940260029, 5.378673342161113, 5.578327744062195, 5.777982145963277, 5.977636547864359, 6.177290949765441, 6.376945351666526, 6.576599753567608, 6.77625415546869, 6.975908557369772, 7.175562959270854, 7.375217361171936, 7.574871763073018, 7.7745261649741035, 7.9741805668751855, 8.173834968776267, 8.37348937067735, 8.573143772578431, 8.772798174479513, 8.972452576380595, 9.17210697828168, 9.371761380182763, 9.571415782083845, 9.771070183984927, 9.970724585886009]\n"
          ],
          "name": "stdout"
        }
      ]
    },
    {
      "cell_type": "markdown",
      "metadata": {
        "id": "aEIUfRPJ5pHT"
      },
      "source": [
        "*Exercise 4:* Write a function that uses the histogram function in the previous exercise to create a text-based \"graph\". For example the output could look like the following:\n",
        "```\n",
        "[  0,  1] : ######\n",
        "[  1,  2] : #####\n",
        "[  2,  3] : ######\n",
        "[  3,  4] : ####\n",
        "[  4,  5] : ####\n",
        "[  5,  6] : ######\n",
        "[  6,  7] : #####\n",
        "[  7,  8] : ######\n",
        "[  8,  9] : ####\n",
        "[  9, 10] : #####\n",
        "```\n",
        "\n",
        "Where each line corresponds to a bin and the number of `#`'s are proportional to the value of the data in the bin. "
      ]
    },
    {
      "cell_type": "code",
      "metadata": {
        "id": "GRlrvGDN5pHT"
      },
      "source": [
        "# Solution\n",
        "def draw_histogram(x,n_bins,x_min=None,x_max=None,character=\"#\",max_character_per_line=20):\n",
        "    ### BEGIN SOLUTION\n",
        "\n",
        "    if x_min==None:\n",
        "      x_min=min(x)\n",
        "    if x_max==None:\n",
        "      x_max=max(x)\n",
        "\n",
        "    bin_size=(x_max-x_min)/n_bins\n",
        "    hist=[0 for i in range(n_bins)]\n",
        "    \n",
        "    for j in range(len(x)):\n",
        "      for k in range(n_bins):\n",
        "        if x_min+k*bin_size<=x[j] and x[j]<x_min+(k+1)*bin_size:\n",
        "          hist[k]+=1\n",
        "    bin_edges=list()\n",
        "\n",
        "    for l in range(n_bins+1):  \n",
        "      bin_edges.append(x_min+l*bin_size)\n",
        "   \n",
        "    #Printing the graph\n",
        "    #In order to not go past the limit of actual # signs (especially for large sets of data)\n",
        "    #I need to capture a proportion from the the interval with the larget amount of data to use that as reference\n",
        "    #However the issue I am going to run into is that I am going to be either underestimating data or overestimating because this isnt going to give me an int\n",
        "    #Best bet is to find a way so that after a find the proportion of the bin I figure out if it is closer to the next number or not\n",
        "    proportion=max_character_per_line/max(hist)\n",
        "    #this proportion shows the relation between data amount and #characters\n",
        "    characterdisplay=\" : \"\n",
        "    \n",
        "    #These loop and if statements are to adjust the chart so it is symmetric\n",
        "    for m in range(n_bins):\n",
        "      #for negative edges i need an extra space for each\n",
        "\n",
        "      if not len(str(round(bin_edges[m],2),))==5:\n",
        "        for s  in range(5-len(str(round(bin_edges[m],2)))):\n",
        "          characterdisplay=\" \"+characterdisplay\n",
        "      if not len(str(round(bin_edges[m+1],2)))==5:\n",
        "        for t  in range(5-len(str(round(bin_edges[m+1],2)))):\n",
        "          characterdisplay=\" \"+characterdisplay\n",
        "\n",
        "      #Had to do a plus and then minus 1 at the end because I have an issue with negative zeroes\n",
        "      print([  round(bin_edges[m],2),  round(bin_edges[m+1],2)] , end='')\n",
        "\n",
        "      for _ in range(round(proportion*hist[m])):\n",
        "        characterdisplay=characterdisplay+character \n",
        "      print(characterdisplay)\n",
        "      characterdisplay=\" : \"\n",
        "        \n",
        "    \n",
        "      \n",
        "    \n",
        "    ### END SOLUTION\n",
        "\n",
        "    return hist,bin_edges"
      ],
      "execution_count": 117,
      "outputs": []
    },
    {
      "cell_type": "code",
      "metadata": {
        "id": "Id0VrqFR5pHW",
        "outputId": "b6ce53a6-07f7-4721-9a7b-2cb1086e0891",
        "colab": {
          "base_uri": "https://localhost:8080/",
          "height": 406
        }
      },
      "source": [
        "# Test your solution here\n",
        "\n",
        "h,b=draw_histogram(data,20)\n",
        "\n",
        "print(h)\n",
        "print(b)"
      ],
      "execution_count": 176,
      "outputs": [
        {
          "output_type": "stream",
          "text": [
            "[-9.93, -8.94] : ##############\n",
            "[-8.94, -7.94] : ##############\n",
            "[-7.94, -6.95] : ##################\n",
            "[-6.95, -5.95] : #################\n",
            "[-5.95, -4.96] : ############\n",
            "[-4.96, -3.96] : ###################\n",
            "[-3.96, -2.97] : ###############\n",
            "[-2.97, -1.98] : ###################\n",
            "[-1.98, -0.98] : ####################\n",
            "[-0.98, 0.01]  : #################\n",
            "[0.01, 1.01]   : ###############\n",
            "[1.01, 2.0]    : ###################\n",
            "[2.0, 3.0]     : ###################\n",
            "[3.0, 3.99]    : #############\n",
            "[3.99, 4.99]   : ###################\n",
            "[4.99, 5.98]   : #################\n",
            "[5.98, 6.98]   : ###############\n",
            "[6.98, 7.97]   : ###############\n",
            "[7.97, 8.97]   : ####################\n",
            "[8.97, 9.96]   : ##################\n",
            "[43, 41, 55, 50, 35, 56, 45, 56, 60, 51, 45, 56, 56, 39, 58, 50, 44, 45, 59, 55]\n",
            "[-9.933508413375751, -8.93870224178483, -7.943896070193909, -6.949089898602987, -5.954283727012067, -4.959477555421145, -3.9646713838302237, -2.969865212239303, -1.9750590406483814, -0.9802528690574608, 0.014553302533460766, 1.0093594741243823, 2.004165645715304, 2.9989718173062254, 3.993777988897145, 4.988584160488067, 5.983390332078988, 6.97819650366991, 7.97300267526083, 8.967808846851753, 9.962615018442673]\n"
          ],
          "name": "stdout"
        }
      ]
    },
    {
      "cell_type": "markdown",
      "metadata": {
        "id": "kWl2a2FB5pHZ"
      },
      "source": [
        "## Functional Programming\n",
        "\n",
        "*Exercise 5:* Write a function the applies a booling function (that returns true/false) to every element in data, and return a list of indices of elements where the result was true. Use this function to find the indices of entries greater than 0.5. "
      ]
    },
    {
      "cell_type": "code",
      "metadata": {
        "id": "PhMArEtF5pHa"
      },
      "source": [
        "def where(mylist,myfunc):\n",
        "    out= []\n",
        "    \n",
        "    ### BEGIN SOLUTION\n",
        "    for i in range(len(mylist)):\n",
        "      if myfunc(mylist[i]):\n",
        "        out.append(i)\n",
        "    \n",
        "    ### END SOLUTION\n",
        "    \n",
        "    return out"
      ],
      "execution_count": null,
      "outputs": []
    },
    {
      "cell_type": "code",
      "metadata": {
        "id": "_pmcB_cf5pHf",
        "outputId": "963933b7-3c16-4da0-abf1-258f459cdfb7",
        "colab": {
          "base_uri": "https://localhost:8080/",
          "height": 34
        }
      },
      "source": [
        "# Test your solution here\n",
        "#I am going to use my even test function from below.\n",
        "lst=[1,2,3,4,5,6]\n",
        "where(lst,EvenTest)"
      ],
      "execution_count": null,
      "outputs": [
        {
          "output_type": "execute_result",
          "data": {
            "text/plain": [
              "[1, 3, 5]"
            ]
          },
          "metadata": {
            "tags": []
          },
          "execution_count": 68
        }
      ]
    },
    {
      "cell_type": "markdown",
      "metadata": {
        "id": "jtGRfnt15pHj"
      },
      "source": [
        "*Exercise 6:* The inrange(mymin,mymax) function below returns a function that tests if it's input is between the specified values. Write corresponding functions that test:\n",
        "* Even\n",
        "* Odd\n",
        "* Greater than\n",
        "* Less than\n",
        "* Equal\n",
        "* Divisible by"
      ]
    },
    {
      "cell_type": "code",
      "metadata": {
        "id": "fcnbPkXE5pHj",
        "outputId": "4eb5dd0a-41c3-400a-cc08-0dc87c166ebe",
        "colab": {
          "base_uri": "https://localhost:8080/",
          "height": 84
        }
      },
      "source": [
        "def in_range(mymin,mymax):\n",
        "    def testrange(x):\n",
        "        return x<mymax and x>=mymin\n",
        "    return testrange\n",
        "\n",
        "# Examples:\n",
        "F1=in_range(0,10)\n",
        "F2=in_range(10,20)\n",
        "\n",
        "# Test of in_range\n",
        "print (F1(0), F1(1), F1(10), F1(15), F1(20))\n",
        "print (F2(0), F2(1), F2(10), F2(15), F2(20))\n",
        "\n",
        "print (\"Number of Entries passing F1:\", len(where(data,F1)))\n",
        "print (\"Number of Entries passing F2:\", len(where(data,F2)))"
      ],
      "execution_count": null,
      "outputs": [
        {
          "output_type": "stream",
          "text": [
            "True True False False False\n",
            "False False True True False\n",
            "Number of Entries passing F1: 521\n",
            "Number of Entries passing F2: 0\n"
          ],
          "name": "stdout"
        }
      ]
    },
    {
      "cell_type": "code",
      "metadata": {
        "id": "66K7d4lf5pHn"
      },
      "source": [
        "### BEGIN SOLUTION\n",
        "def EvenTest(integer):\n",
        "  return integer%2==0\n",
        "\n",
        "def OddTest(integer):\n",
        "  return integer%2==1\n",
        "\n",
        "def GreaterThan(TestInteger,Parameter):\n",
        "  return TestInteger>Parameter             \n",
        "    \n",
        "def LessThan(TestInteger,Parameter):\n",
        "  return TestInteger<Parameter\n",
        "    \n",
        "def EqualTest(TestInteger,Parameter):\n",
        "  return TestInteger==Parameter\n",
        "  \n",
        "def DivisibleBy(TestInteger,Parameter):\n",
        "  return TestInteger%Parameter==0\n",
        "      \n",
        "\n",
        "\n",
        "    \n",
        "### END SOLUTION"
      ],
      "execution_count": null,
      "outputs": []
    },
    {
      "cell_type": "code",
      "metadata": {
        "id": "R4-_Dh025pHq",
        "outputId": "bb619481-472a-4488-fe28-40d771684a4e",
        "colab": {
          "base_uri": "https://localhost:8080/",
          "height": 118
        }
      },
      "source": [
        "# Test your solution\n",
        "print(EvenTest(42))\n",
        "print(OddTest(33))\n",
        "print(GreaterThan(37,54))\n",
        "print(LessThan(22,25))\n",
        "print(EqualTest(10,21))\n",
        "print(DivisibleBy(21,7))"
      ],
      "execution_count": null,
      "outputs": [
        {
          "output_type": "stream",
          "text": [
            "True\n",
            "True\n",
            "False\n",
            "True\n",
            "False\n",
            "True\n"
          ],
          "name": "stdout"
        }
      ]
    },
    {
      "cell_type": "markdown",
      "metadata": {
        "id": "iGJKOwic5pHw"
      },
      "source": [
        "*Exercise 7:* Repeat the previous exercise using `lambda` and the built-in python functions sum and map instead of your solution above. "
      ]
    },
    {
      "cell_type": "code",
      "metadata": {
        "id": "6opjUYOr5pHx",
        "outputId": "b39c0d07-c8fa-4185-8e98-584ae23211f8",
        "colab": {
          "base_uri": "https://localhost:8080/",
          "height": 118
        }
      },
      "source": [
        "### BEGIN SOLUTION \n",
        "Examples=[2,3,4,10,12,16,17,19,21]\n",
        "#Test for Even\n",
        "def Even():\n",
        "  return lambda x: x%2==0\n",
        "def Odd():\n",
        "  return lambda x: x%2==1\n",
        "def Greater(Parameter):\n",
        "  return lambda x: x>Parameter\n",
        "def Less(Parameter):\n",
        "  return lambda x: x<Parameter\n",
        "def Equal(Parameter):\n",
        "  return lambda x: x==Parameter\n",
        "def DivisBy(Parameter):\n",
        "  return lambda x: x%Parameter==0\n",
        "print(Even()(Examples[1]))\n",
        "print(Odd()(Examples[0]))\n",
        "print(Greater(6)(Examples[1]))\n",
        "print(Less(9)(Examples[7]))\n",
        "print(Equal(17)(Examples[6]))\n",
        "print(DivisBy(10)(Examples[1]))\n",
        "\n",
        "    \n",
        "### END SOLUTION"
      ],
      "execution_count": 221,
      "outputs": [
        {
          "output_type": "stream",
          "text": [
            "False\n",
            "False\n",
            "False\n",
            "False\n",
            "True\n",
            "False\n"
          ],
          "name": "stdout"
        }
      ]
    },
    {
      "cell_type": "markdown",
      "metadata": {
        "id": "fPJFjxTv5pH1"
      },
      "source": [
        "## Monte Carlo\n",
        "\n",
        "*Exercise 7:* Write a \"generator\" function called `generate_function(func,x_min,x_max,N)`, that instead of generating a flat distribution, generates a distribution with functional form coded in `func`. Note that `func` will always be > 0.  \n",
        "\n",
        "Use the test function below and your histogramming functions above to demonstrate that your generator is working properly.\n",
        "\n",
        "Hint: A simple, but slow, solution is to a draw random number test_x within the specified range and another number p between the min and max of the function (which you will have to determine). If p<=function(test_x), then place test_x on the output. If not, repeat the process, drawing two new numbers. Repeat until you have the specified number of generated numbers, N. For this problem, it's OK to determine the min and max by numerically sampling the function.  "
      ]
    },
    {
      "cell_type": "code",
      "metadata": {
        "id": "i-_I8uKG5pH2"
      },
      "source": [
        "def generate_function(func,x_min,x_max,N=1000):\n",
        "    out = list()\n",
        "    ### BEGIN SOLUTION\n",
        "    #Need to find the min and max of the function\n",
        "    def find_min(f,x_min,x_max,steps=100):\n",
        "      step_size=(x_max-x_min)/steps\n",
        "      x=x_min\n",
        "      y_min=f(x_min)\n",
        "      for _ in range(steps):\n",
        "          y=f(x)\n",
        "          if y<y_min:\n",
        "              y_min=y\n",
        "          x+=step_size\n",
        "      \n",
        "      return y_min\n",
        "    \n",
        "    def find_max(f,x_min,x_max,steps=100):\n",
        "      step_size=(x_max-x_min)/steps\n",
        "      x=x_max\n",
        "      y_max=f(x_max)\n",
        "      for _ in range(steps):\n",
        "          y=f(x)\n",
        "          if y>y_max:\n",
        "              y_max=y\n",
        "          x-=step_size\n",
        "      \n",
        "      return y_max\n",
        "\n",
        "\n",
        "    function_min=find_min(func,x_min,x_max,100)\n",
        "    function_max=find_max(func,x_min,x_max,100)\n",
        "    for i in range(N):\n",
        "      test_x=(generate_uniform(1,x_min,x_max))[0]\n",
        "      p=(generate_uniform(1,function_min,function_max))[0]\n",
        "      if p<=func(test_x):\n",
        "        out.append(test_x)\n",
        "      \n",
        "\n",
        "\n",
        "\n",
        "        \n",
        "    \n",
        "    ### END SOLUTION\n",
        "    \n",
        "    return out"
      ],
      "execution_count": 183,
      "outputs": []
    },
    {
      "cell_type": "code",
      "metadata": {
        "id": "7iKKHTif5pH7"
      },
      "source": [
        "# A test function\n",
        "def test_func(x,a=1,b=1):\n",
        "  \n",
        "  return x"
      ],
      "execution_count": 164,
      "outputs": []
    },
    {
      "cell_type": "code",
      "metadata": {
        "id": "wAiiH6Zw5_GQ"
      },
      "source": [
        "info=generate_function(test_func,-10,10,100000)\n",
        "#The absolute function was not working for me \n",
        "\n",
        "illustration=draw_histogram(info,100)"
      ],
      "execution_count": null,
      "outputs": []
    },
    {
      "cell_type": "markdown",
      "metadata": {
        "id": "7qxv4MqP5pH_"
      },
      "source": [
        "*Exercise 8:* Use your function to generate 1000 numbers that are normal distributed, using the `gaussian` function below. Confirm the mean and variance of the data is close to the mean and variance you specify when building the Gaussian. Histogram the data. "
      ]
    },
    {
      "cell_type": "code",
      "metadata": {
        "id": "N0uGb-m05pH_"
      },
      "source": [
        "import math\n",
        "\n",
        "def gaussian(mean, sigma):\n",
        "    def f(x):\n",
        "        return math.exp(-((x-mean)**2)/(2*sigma**2))/math.sqrt(math.pi*sigma)\n",
        "    return f\n",
        "\n",
        "# Example Instantiation\n",
        "g1=gaussian(0,1)\n",
        "g2=gaussian(10,3)\n",
        "\n"
      ],
      "execution_count": 187,
      "outputs": []
    },
    {
      "cell_type": "code",
      "metadata": {
        "id": "IXMYQ3qCI7oF",
        "outputId": "16e24b77-f115-4200-f026-dfb724451cb9",
        "colab": {
          "base_uri": "https://localhost:8080/",
          "height": 793
        }
      },
      "source": [
        "data1=generate_function(g1,-10,10,10000)\n",
        "data1illustration=draw_histogram(data1,20)\n",
        "print(mean(data1))\n",
        "print(math.sqrt(variance(data1)))\n",
        "print(data1illustration)\n",
        "data2=generate_function(g2,-20,20,10000)\n",
        "data2illustration=draw_histogram(data2,20)\n",
        "print(mean(data2))\n",
        "print(math.sqrt(variance(data2)))\n"
      ],
      "execution_count": 216,
      "outputs": [
        {
          "output_type": "stream",
          "text": [
            "[-2.99, -2.68] : #\n",
            "[-2.68, -2.37] : #\n",
            "[-2.37, -2.06] : ##\n",
            "[-2.06, -1.75] : ####\n",
            "[-1.75, -1.44] : #######\n",
            "[-1.44, -1.13] : ########\n",
            "[-1.13, -0.82] : #############\n",
            "[-0.82, -0.51] : ################\n",
            "[-0.51, -0.19] : ####################\n",
            "[-0.19, 0.12]  : ####################\n",
            "[0.12, 0.43]   : ###################\n",
            "[0.43, 0.74]   : ####################\n",
            "[0.74, 1.05]   : ##############\n",
            "[1.05, 1.36]   : ##########\n",
            "[1.36, 1.67]   : ######\n",
            "[1.67, 1.98]   : #####\n",
            "[1.98, 2.29]   : #\n",
            "[2.29, 2.61]   : #\n",
            "[2.61, 2.92]   : \n",
            "[2.92, 3.23]   : \n",
            "-0.007014218193685806\n",
            "1.01472358385238\n",
            "([5, 7, 15, 27, 50, 61, 97, 116, 144, 142, 139, 144, 103, 73, 40, 39, 9, 9, 3, 3], [-2.994400431386648, -2.683291042126448, -2.3721816528662485, -2.0610722636060492, -1.7499628743458495, -1.4388534850856498, -1.1277440958254503, -0.8166347065652508, -0.5055253173050511, -0.19441592804485142, 0.1166934612153483, 0.42780285047554756, 0.7389122397357473, 1.050021628995947, 1.3611310182561462, 1.6722404075163464, 1.9833497967765457, 2.294459186036745, 2.605568575296945, 2.9166779645571443, 3.2277873538173445])\n",
            "[0.22, 1.2]    : #\n",
            "[1.2, 2.19]    : \n",
            "[2.19, 3.18]   : #\n",
            "[3.18, 4.17]   : ##\n",
            "[4.17, 5.15]   : ####\n",
            "[5.15, 6.14]   : #####\n",
            "[6.14, 7.13]   : ###########\n",
            "[7.13, 8.12]   : ##############\n",
            "[8.12, 9.1]    : ################\n",
            "[9.1, 10.09]   : ################\n",
            "[10.09, 11.08] : ####################\n",
            "[11.08, 12.06] : ################\n",
            "[12.06, 13.05] : #############\n",
            "[13.05, 14.04] : ########\n",
            "[14.04, 15.03] : #######\n",
            "[15.03, 16.01] : ####\n",
            "[16.01, 17.0]  : #\n",
            "[17.0, 17.99]  : #\n",
            "[17.99, 18.98] : \n",
            "[18.98, 19.96] : \n",
            "9.993867525961985\n",
            "2.963466484293317\n"
          ],
          "name": "stdout"
        }
      ]
    },
    {
      "cell_type": "markdown",
      "metadata": {
        "id": "aHA080b85pIC"
      },
      "source": [
        "*Exercise 9:* Combine your `generate_function`, `where`, and `in_range` functions above to create an integrate function. Use your integrate function to show that approximately 68% of Normal distribution is within one variance."
      ]
    },
    {
      "cell_type": "code",
      "metadata": {
        "id": "b9LCn3gW5pID"
      },
      "source": [
        "def integrate(func, x_min, x_max, n_points=1000):\n",
        "    #A=(xmax-xmin)(ymax-ymin) Area=A*(#accepts/trials)\n",
        "    y_max=find_max(func,x_min,x_max)\n",
        "    y_min=find_min(func,x_min,x_max)\n",
        "    A=(x_max-x_min)*(y_max-y_min)\n",
        "    Accepts=len(generate_function(func,x_min,x_max,1000))\n",
        "    integral=A*(Accepts/n_points)\n",
        "  \n",
        "    return integral"
      ],
      "execution_count": 222,
      "outputs": []
    },
    {
      "cell_type": "code",
      "metadata": {
        "id": "eCEDeh105pIG",
        "outputId": "027beb06-96d2-49d9-a59b-ed176a1f6fca",
        "colab": {
          "base_uri": "https://localhost:8080/",
          "height": 34
        }
      },
      "source": [
        "integrate(gaussian(0,1),-1,1)"
      ],
      "execution_count": 225,
      "outputs": [
        {
          "output_type": "execute_result",
          "data": {
            "text/plain": [
              "0.28015302468325115"
            ]
          },
          "metadata": {
            "tags": []
          },
          "execution_count": 224
        },
        {
          "output_type": "execute_result",
          "data": {
            "text/plain": [
              "0.28237293771560656"
            ]
          },
          "metadata": {
            "tags": []
          },
          "execution_count": 225
        }
      ]
    }
  ]
}