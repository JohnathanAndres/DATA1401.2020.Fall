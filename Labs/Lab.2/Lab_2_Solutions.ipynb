{
  "nbformat": 4,
  "nbformat_minor": 0,
  "metadata": {
    "colab": {
      "name": "Lab 2 Solutions",
      "provenance": [],
      "collapsed_sections": []
    },
    "kernelspec": {
      "display_name": "Python 3",
      "language": "python",
      "name": "python3"
    },
    "language_info": {
      "codemirror_mode": {
        "name": "ipython",
        "version": 3
      },
      "file_extension": ".py",
      "mimetype": "text/x-python",
      "name": "python",
      "nbconvert_exporter": "python",
      "pygments_lexer": "ipython3",
      "version": "3.8.0"
    }
  },
  "cells": [
    {
      "cell_type": "markdown",
      "metadata": {
        "id": "uk7yc0nadBGa"
      },
      "source": [
        "# Lab 2\n",
        "\n",
        "[![Open In Colab](https://colab.research.google.com/assets/colab-badge.svg)](https://colab.research.google.com/github/UTA-DataScience/DATA1401.2020.Fall/blob/master/Labs/Lab.2/Lab.2.ipynb)\n"
      ]
    },
    {
      "cell_type": "markdown",
      "metadata": {
        "id": "u9RAhs5b4vXY"
      },
      "source": [
        "\n",
        "## Make your fork private\n",
        "\n",
        "Navigate your fork of the course repository on GitHub and click the \"gear\" icon to change the settings. Select \"Options\" on the left and scroll all the way down. Then click on \"Make Private\" to make your repository private. \n",
        "\n",
        "Next select the collaborators on the left and add your Professor as a collaborator. "
      ]
    },
    {
      "cell_type": "markdown",
      "metadata": {
        "id": "q-gMWiE4dBG_"
      },
      "source": [
        "## Python Programming\n",
        "\n",
        "In the remainder of this lab you will practice python by solving some simple exercises. \n",
        "\n",
        "*Exercise 1:* Write 2 functions `even(x)` and `odd(x)` that take an integer and returns True if the input is even or odd, otherwise returns False. Use cell below for your solution. Use the subsequent cell to demonstrate that your solution works. Feel free to add additional cell as needed using the \"+\" button on the button bar above. "
      ]
    },
    {
      "cell_type": "code",
      "metadata": {
        "id": "jwN5jff1dBG_"
      },
      "source": [
        "def even(x):\n",
        "  z=True\n",
        "  if x%2==0:\n",
        "    return z\n",
        "  elif x%2==1:\n",
        "    return not(z)\n",
        "\n",
        "def odd(x):\n",
        "  z=True\n",
        "  if x%2==1:\n",
        "    return z\n",
        "  elif x%2==0:\n",
        "    return not(z)  \n"
      ],
      "execution_count": null,
      "outputs": []
    },
    {
      "cell_type": "code",
      "metadata": {
        "id": "xNJAcodhdBHB",
        "outputId": "bc7d8f46-51a3-488d-80e8-a9bbae3e21ee",
        "colab": {
          "base_uri": "https://localhost:8080/",
          "height": 50
        }
      },
      "source": [
        "d = even(3)\n",
        "print(d)\n",
        "\n",
        "e= odd(2)\n",
        "print(e)"
      ],
      "execution_count": null,
      "outputs": [
        {
          "output_type": "stream",
          "text": [
            "False\n",
            "False\n"
          ],
          "name": "stdout"
        }
      ]
    },
    {
      "cell_type": "markdown",
      "metadata": {
        "id": "KL_pyzG8dBHD"
      },
      "source": [
        "*Exercise 2:* Write a function that takes a list of numbers as input and returns a list of the subset of elements that are less that 10. Test your solution."
      ]
    },
    {
      "cell_type": "code",
      "metadata": {
        "id": "g8nt0wnldBHE"
      },
      "source": [
        "def LessThanTen(x):\n",
        "  HowMany=len(x)\n",
        "  BelowTen=list()\n",
        "  for i in range(HowMany):\n",
        "    if int(x[i])<10:\n",
        "      BelowTen.append(x[i])\n",
        "  return BelowTen"
      ],
      "execution_count": 54,
      "outputs": []
    },
    {
      "cell_type": "code",
      "metadata": {
        "id": "__HTUWA1dBHH",
        "outputId": "3ef4959b-8b03-48c8-eb51-fb0b00fbc9f0",
        "colab": {
          "base_uri": "https://localhost:8080/",
          "height": 34
        }
      },
      "source": [
        "# Test your solution here\n",
        "x=[1,2,2,3,33,321,12,21]\n",
        "print(LessThanTen(x))"
      ],
      "execution_count": 56,
      "outputs": [
        {
          "output_type": "stream",
          "text": [
            "[1, 2, 2, 3]\n"
          ],
          "name": "stdout"
        }
      ]
    },
    {
      "cell_type": "markdown",
      "metadata": {
        "id": "T0cx91JudBHK"
      },
      "source": [
        "*Exercise 3:* Write a function that takes a number `x_max` as input and returns a function that performs the same task as exercise 2, but for `x_max` instead of 10."
      ]
    },
    {
      "cell_type": "code",
      "metadata": {
        "id": "PqummMcmdBHK"
      },
      "source": [
        "#input max \n",
        "def LessThanx(MaximumValue):\n",
        "  \n",
        "def MaxBound(x_max):\n",
        "  rerturn LessThanx(x_max)\n"
      ],
      "execution_count": null,
      "outputs": []
    },
    {
      "cell_type": "code",
      "metadata": {
        "id": "evRYemjXdBHN"
      },
      "source": [
        "# Test your solution here"
      ],
      "execution_count": null,
      "outputs": []
    },
    {
      "cell_type": "markdown",
      "metadata": {
        "id": "h0I8M27LdBHP"
      },
      "source": [
        "*Exercise 4:* Write a function that takes an interger as input and returns a list of all divisors of that number."
      ]
    },
    {
      "cell_type": "code",
      "metadata": {
        "id": "k6GUpDyrdBHP"
      },
      "source": [
        "# Write you solution here \n",
        "#We want to loop umbers less than the integer and then if the modulus between the integer and the loop index is 0 then add to divisor list\n",
        "def InttoDivisors(x):\n",
        "  Divisors=list()\n",
        "  DivisorCheck=x\n",
        "  while (0<DivisorCheck):\n",
        "    if (x%DivisorCheck)==0:\n",
        "      Divisors.append(DivisorCheck)\n",
        "      DivisorCheck-=1\n",
        "    else:\n",
        "      DivisorCheck-=1\n",
        "  print(Divisors)\n"
      ],
      "execution_count": 47,
      "outputs": []
    },
    {
      "cell_type": "code",
      "metadata": {
        "id": "YDvRmft-dBHR",
        "outputId": "ed58d096-d7d2-45a6-b342-fd69cdfc766f",
        "colab": {
          "base_uri": "https://localhost:8080/",
          "height": 34
        }
      },
      "source": [
        "InttoDivisors(34)"
      ],
      "execution_count": 49,
      "outputs": [
        {
          "output_type": "stream",
          "text": [
            "[34, 17, 2, 1]\n"
          ],
          "name": "stdout"
        }
      ]
    },
    {
      "cell_type": "markdown",
      "metadata": {
        "id": "IOWnLMvxdBHT"
      },
      "source": [
        "*Exercise 5:* Write a function that takes 2 lists as input and returns a list that contains only the elements that are common between the lists (without duplicates). Make sure your program works on two lists of different sizes."
      ]
    },
    {
      "cell_type": "code",
      "metadata": {
        "id": "tR31bnTDdBHT"
      },
      "source": [
        "# Write you solution here\n",
        "\n",
        "def ListCommons(x,y):\n",
        "  CommonElements=set()\n",
        "  for i in range(len(x)):\n",
        "    # We are using the length of x to loop a certain index and check through each index of y.\n",
        "    for j in range(len(y)):\n",
        "      if x[i]==y[j]:\n",
        "        CommonElements.add(x[i])\n",
        "\n",
        "  return list(CommonElements)\n"
      ],
      "execution_count": 45,
      "outputs": []
    },
    {
      "cell_type": "code",
      "metadata": {
        "id": "IJDf6ebYdBHV",
        "outputId": "d7556d8b-5b6f-4121-fc0c-6e732aca3be5",
        "colab": {
          "base_uri": "https://localhost:8080/",
          "height": 50
        }
      },
      "source": [
        "# Test your solution here\n",
        "x=[1,2,2,6,67,54,43,33,22]\n",
        "y=[1,22,2,5,5,33,4,6,54,44]\n",
        "xstr=['desk','chair','equals']\n",
        "ystr=['chinese','desk','chair','japanese']\n",
        "print(ListCommons(x,y))\n",
        "print(ListCommons(xstr,ystr))"
      ],
      "execution_count": 46,
      "outputs": [
        {
          "output_type": "stream",
          "text": [
            "[1, 2, 33, 6, 54, 22]\n",
            "['desk', 'chair']\n"
          ],
          "name": "stdout"
        }
      ]
    },
    {
      "cell_type": "markdown",
      "metadata": {
        "id": "3vA7M9pldBHX"
      },
      "source": [
        "*Exercise 6:* Write a function that reads takes a string and returns `True` if the string is a palindrome. (A palindrome is a string that reads the same forwards and backwards.)"
      ]
    },
    {
      "cell_type": "code",
      "metadata": {
        "id": "ncyMDzp6dBHX"
      },
      "source": [
        "# Write you solution here\n",
        "#Take the length of the word then use a conjunction loop to create a reversed word then check if they are the same wor return true if palindrome and  false for nonpalindrome\n",
        "def PalindromeCheck(x):\n",
        "  ReverseWord=''\n",
        "  for i in range(len(x)):\n",
        "    ReverseWord=x[i]+ReverseWord\n",
        "  if x==ReverseWord:\n",
        "    return True\n",
        "  else:\n",
        "    return False"
      ],
      "execution_count": 62,
      "outputs": []
    },
    {
      "cell_type": "code",
      "metadata": {
        "id": "v5cmVQ6MdBHZ",
        "outputId": "0562dd69-55be-4ea3-a78f-3bb6e956e58d",
        "colab": {
          "base_uri": "https://localhost:8080/",
          "height": 50
        }
      },
      "source": [
        "# Test your solution here\n",
        "x='word'\n",
        "y='racecar'\n",
        "print(PalindromeCheck(x))\n",
        "print(PalindromeCheck(y))"
      ],
      "execution_count": 63,
      "outputs": [
        {
          "output_type": "stream",
          "text": [
            "False\n",
            "True\n"
          ],
          "name": "stdout"
        }
      ]
    },
    {
      "cell_type": "markdown",
      "metadata": {
        "id": "fT35xwandBHc"
      },
      "source": [
        "*Exercise 7:* Write a Rock-Paper-Scissors game function, that takes 2 strings, the inputs of player 1 and player 2, and output 1 or 2 corresponding to which player wins, or 0 if draw.\n",
        "\n",
        "Implement a Rock-Paper-Scissors game by soliciting input from 2 players, testing with this function, and repeating if there is a draw.\n",
        "\n",
        "Remember the rules:\n",
        "\n",
        "* Rock beats scissors\n",
        "* Scissors beats paper\n",
        "* Paper beats rock"
      ]
    },
    {
      "cell_type": "code",
      "metadata": {
        "id": "U1_HxxaWdBHd"
      },
      "source": [
        "# Write you solution here\n",
        "#Take the strings and write if and else if statements for conditioning outputting winners\n",
        "def RockPaperScissors(Player1,Player2):\n",
        "  if Player1=='paper':\n",
        "    if Player2=='rock':\n",
        "      return 1\n",
        "    elif Player2=='scissors':\n",
        "      return 2\n",
        "    elif Player2=='paper':\n",
        "      return 0\n",
        "  elif Player1=='scissors':\n",
        "    if Player2=='rock':\n",
        "        return 2\n",
        "    elif Player2=='scissors':\n",
        "        return 0\n",
        "    elif Player2=='paper':\n",
        "        return 1\n",
        "  elif Player1=='rock':\n",
        "    if Player2=='rock':\n",
        "      return 0\n",
        "    elif Player2=='scissors':\n",
        "      return 1\n",
        "    elif Player2=='paper':\n",
        "      return 2\n",
        "    #I notice I probably could have shortened this by eliminating the fact that if there equal its automatically a tie."
      ],
      "execution_count": 68,
      "outputs": []
    },
    {
      "cell_type": "code",
      "metadata": {
        "id": "ooR2ldZBdBHf",
        "outputId": "9f6d8e8a-023d-46ac-dd8f-07c1aab9144f",
        "colab": {
          "base_uri": "https://localhost:8080/",
          "height": 34
        }
      },
      "source": [
        "# Test your solution here\n",
        "Player1='scissors'\n",
        "Player2='rock'\n",
        "print(RockPaperScissors(Player1,Player2))"
      ],
      "execution_count": 69,
      "outputs": [
        {
          "output_type": "stream",
          "text": [
            "2\n"
          ],
          "name": "stdout"
        }
      ]
    },
    {
      "cell_type": "markdown",
      "metadata": {
        "id": "dJQzXNKzdBHh"
      },
      "source": [
        "*Exercise 8:* Write a function that takes a integer `n` as input and \n",
        "outputs a list of the first `n` Fibonnaci numbers.\n",
        "\n",
        "The Fibonnaci seqence is a sequence of numbers where the next number in the sequence is the sum of the previous two numbers in the sequence. The sequence looks like this: 1, 1, 2, 3, 5, 8, 13, …)"
      ]
    },
    {
      "cell_type": "code",
      "metadata": {
        "id": "G_4ooRXTdBHh"
      },
      "source": [
        "# Write you solution here\n",
        "def Fibonacci(n):\n",
        "  x=1\n",
        "  y=1\n",
        "  FibonacciSet=[]\n",
        "  if n==1:\n",
        "    FibonacciSet.append(x)\n",
        "  elif n>1:\n",
        "    FibonacciSet.append(x)\n",
        "    FibonacciSet.append(y)\n",
        "    for i in range(3,n+1):\n",
        "      FibonacciSet.append(FibonacciSet[i-2]+FibonacciSet[1-3])\n",
        "    return FibonacciSet"
      ],
      "execution_count": 78,
      "outputs": []
    },
    {
      "cell_type": "code",
      "metadata": {
        "id": "rzK5FskJdBHj",
        "outputId": "d8283251-d046-415c-85c2-d848bdd41223",
        "colab": {
          "base_uri": "https://localhost:8080/",
          "height": 50
        }
      },
      "source": [
        "# Test your solution here\n",
        "print(Fibonacci(3))\n",
        "print(Fibonacci(7))"
      ],
      "execution_count": 79,
      "outputs": [
        {
          "output_type": "stream",
          "text": [
            "[1, 1, 2]\n",
            "[1, 1, 2, 3, 5, 8, 13]\n"
          ],
          "name": "stdout"
        }
      ]
    },
    {
      "cell_type": "markdown",
      "metadata": {
        "id": "q6c_AskadBHl"
      },
      "source": [
        "*Exercise 9:* Write a function that takes a string of consisting of several words and returns a string that reverses the order of the words.\n"
      ]
    },
    {
      "cell_type": "code",
      "metadata": {
        "id": "aJdXX6FHdBHl"
      },
      "source": [
        "# Write you solution here\n",
        "#Split a string into list and then take list items and reverse into a string with spaces.\n",
        "def Reverse(Sentence):\n",
        "  words=Sentence.split()\n",
        "  StringReverse=''\n",
        "  for i in range(len(words)):\n",
        "    StringReverse=words[i]+' '+StringReverse\n",
        "  return StringReverse\n"
      ],
      "execution_count": 82,
      "outputs": []
    },
    {
      "cell_type": "code",
      "metadata": {
        "id": "nQyhnLZ_dBHn",
        "outputId": "fbf4341b-c1bb-4b7a-cc35-add841cc1d30",
        "colab": {
          "base_uri": "https://localhost:8080/",
          "height": 34
        }
      },
      "source": [
        "# Test your solution here\n",
        "x='Hi my name is Johnathan'\n",
        "print(Reverse(x))"
      ],
      "execution_count": 83,
      "outputs": [
        {
          "output_type": "stream",
          "text": [
            "Johnathan is name my Hi \n"
          ],
          "name": "stdout"
        }
      ]
    },
    {
      "cell_type": "markdown",
      "metadata": {
        "id": "NFSmRaSydBHq"
      },
      "source": [
        "*Exercise 10:* Write a guessing game program that will repeatedly guess a number that the users picks, with the user indicating higher or lower, until it correctly guesses the number."
      ]
    },
    {
      "cell_type": "code",
      "metadata": {
        "id": "Ie2E1JzCdBHr"
      },
      "source": [
        "# Write you solution here\n",
        "def GuessingGame(UserNumber):\n",
        "  CorrectGuess=False \n",
        "    While not CorrectGuess:\n",
        "      "
      ],
      "execution_count": null,
      "outputs": []
    },
    {
      "cell_type": "code",
      "metadata": {
        "id": "6T8YdWSMdBHs"
      },
      "source": [
        "# Test your solution here"
      ],
      "execution_count": null,
      "outputs": []
    }
  ]
}