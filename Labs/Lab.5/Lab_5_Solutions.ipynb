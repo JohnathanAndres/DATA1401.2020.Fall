{
  "nbformat": 4,
  "nbformat_minor": 0,
  "metadata": {
    "kernelspec": {
      "display_name": "Python 3",
      "language": "python",
      "name": "python3"
    },
    "language_info": {
      "codemirror_mode": {
        "name": "ipython",
        "version": 3
      },
      "file_extension": ".py",
      "mimetype": "text/x-python",
      "name": "python",
      "nbconvert_exporter": "python",
      "pygments_lexer": "ipython3",
      "version": "3.8.1"
    },
    "colab": {
      "name": "Lab 5 Solutions ",
      "provenance": []
    }
  },
  "cells": [
    {
      "cell_type": "markdown",
      "metadata": {
        "id": "mDX-G2WbFoJq"
      },
      "source": [
        "# Lab 5- Object Oriented Programming\n",
        "\n",
        "[![Open In Colab](https://colab.research.google.com/assets/colab-badge.svg)](https://colab.research.google.com/github//afarbin/DATA1401-Spring-2020/blob/master/Labs/Lab-5/Lab-5.ipynb)\n",
        "\n",
        "For all of the exercises below, make sure you provide tests of your solutions.\n"
      ]
    },
    {
      "cell_type": "markdown",
      "metadata": {
        "id": "ln-VK_iCFoJu"
      },
      "source": [
        "1. Write a \"counter\" class that can be incremented up to a specified maximum value, will print an error if an attempt is made to increment beyond that value, and allows reseting the counter. "
      ]
    },
    {
      "cell_type": "code",
      "metadata": {
        "id": "BHUgPUFrFoJw"
      },
      "source": [
        "class counter:\n",
        "    def __init__(self,max_val):\n",
        "        self.max_val=max_val\n",
        "        self.cur_val=1\n",
        "        \n",
        "    def increment(self):\n",
        "        if self.cur_val>self.max_val:\n",
        "            print(\"Max value reached.\")\n",
        "        else:\n",
        "            self.cur_val+=1\n",
        "            \n",
        "    def reset(self):\n",
        "        self.cur_val=1\n",
        "        "
      ],
      "execution_count": null,
      "outputs": []
    },
    {
      "cell_type": "code",
      "metadata": {
        "id": "9DEf-5dgFoJ0"
      },
      "source": [
        "my_counter=counter(3)"
      ],
      "execution_count": null,
      "outputs": []
    },
    {
      "cell_type": "code",
      "metadata": {
        "id": "e6gqmvgUFoJ4",
        "outputId": "d38e0b7d-5f8a-4e05-b17d-68df6f99e7de",
        "colab": {
          "base_uri": "https://localhost:8080/"
        }
      },
      "source": [
        "my_counter.increment()\n",
        "my_counter.increment()\n",
        "my_counter.increment()\n",
        "my_counter.increment()\n",
        "my_counter.increment()"
      ],
      "execution_count": null,
      "outputs": [
        {
          "output_type": "stream",
          "text": [
            "Max value reached.\n",
            "Max value reached.\n"
          ],
          "name": "stdout"
        }
      ]
    },
    {
      "cell_type": "code",
      "metadata": {
        "id": "DFgm8iUdFoJ9"
      },
      "source": [
        "my_counter.cur_val=100"
      ],
      "execution_count": null,
      "outputs": []
    },
    {
      "cell_type": "markdown",
      "metadata": {
        "id": "gnz9NXMDFoKC"
      },
      "source": [
        "2. Copy and paste your solution to question 1 and modify it so that all the data held by the counter is private. Implement functions to check the value of the counter, check the maximum value, and check if the counter is at the maximum."
      ]
    },
    {
      "cell_type": "code",
      "metadata": {
        "id": "HAqlV7h1FoKD"
      },
      "source": [
        "class counter:\n",
        "    def __init__(self,max_val):\n",
        "        self.__max_val=max_val\n",
        "        self.__cur_val=1\n",
        "        \n",
        "    def increment(self):\n",
        "        if self.__cur_val>self.__max_val:\n",
        "            print(\"Max value reached.\")\n",
        "        else:\n",
        "            self.__cur_val+=1\n",
        "            \n",
        "    def reset(self):\n",
        "        self.__cur_val=1\n",
        "        \n",
        "    def cur_val(self):\n",
        "        return self.__cur_val\n",
        "\n",
        "    def max_val(self):\n",
        "        return self.__max_val\n",
        "\n"
      ],
      "execution_count": null,
      "outputs": []
    },
    {
      "cell_type": "code",
      "metadata": {
        "id": "VU80UAz8FoKH"
      },
      "source": [
        "my_counter=counter(3)"
      ],
      "execution_count": null,
      "outputs": []
    },
    {
      "cell_type": "code",
      "metadata": {
        "id": "egZ9ZIXeFoKK",
        "outputId": "43677c23-f9a4-4eba-cad3-dc7b51a1de94",
        "colab": {
          "base_uri": "https://localhost:8080/",
          "height": 162
        }
      },
      "source": [
        "my_counter.cur_val()\n"
      ],
      "execution_count": null,
      "outputs": [
        {
          "output_type": "error",
          "ename": "TypeError",
          "evalue": "ignored",
          "traceback": [
            "\u001b[0;31m---------------------------------------------------------------------------\u001b[0m",
            "\u001b[0;31mTypeError\u001b[0m                                 Traceback (most recent call last)",
            "\u001b[0;32m<ipython-input-14-35c24697f947>\u001b[0m in \u001b[0;36m<module>\u001b[0;34m()\u001b[0m\n\u001b[0;32m----> 1\u001b[0;31m \u001b[0mmy_counter\u001b[0m\u001b[0;34m.\u001b[0m\u001b[0mcur_val\u001b[0m\u001b[0;34m(\u001b[0m\u001b[0;34m)\u001b[0m\u001b[0;34m\u001b[0m\u001b[0;34m\u001b[0m\u001b[0m\n\u001b[0m",
            "\u001b[0;31mTypeError\u001b[0m: 'int' object is not callable"
          ]
        }
      ]
    },
    {
      "cell_type": "markdown",
      "metadata": {
        "id": "n9YcfgItFoKS"
      },
      "source": [
        "3. Implement a class to represent a rectangle, holding the length, width, and $x$ and $y$ coordinates of a corner of the object. Implement functions that compute the area and parameter of the rectangle. Make all data members private and privide accessors to retrieve values of data members. "
      ]
    },
    {
      "cell_type": "code",
      "metadata": {
        "id": "k9vAgr0KFoKS"
      },
      "source": [
        "#Corner given is the bottom left\n",
        "class rectangle:\n",
        "    def __init__(self,width,length,x,y):\n",
        "        self.__width=width\n",
        "        self.__length=length\n",
        "        self.__x=x\n",
        "        self.__y=y\n",
        "        \n",
        "    def area(self):\n",
        "        return self.__width*self.__length\n",
        "    \n",
        "    def perimeter(self):\n",
        "        return 2*(self.__width+self.__length)\n",
        "    #Accessors\n",
        "    def x(self):\n",
        "        return self.__x\n",
        "    \n",
        "    def y(self):\n",
        "        return self.__y\n",
        "   \n",
        "    def width(self):\n",
        "        return self.__width\n",
        "\n",
        "    def length(self):\n",
        "        return self.__length \n",
        "\n",
        "\n",
        "        "
      ],
      "execution_count": null,
      "outputs": []
    },
    {
      "cell_type": "code",
      "metadata": {
        "id": "SIKYO0YNdvyq",
        "outputId": "07a3d852-d704-460b-9af8-5bf0f5b817b5",
        "colab": {
          "base_uri": "https://localhost:8080/"
        }
      },
      "source": [
        "my_rectangle=rectangle(3,4,0,0)\n",
        "print(my_rectangle.area())\n",
        "print(my_rectangle.perimeter())\n",
        "print(my_rectangle.x())\n",
        "print(my_rectangle.y())\n",
        "rectangle()\n"
      ],
      "execution_count": null,
      "outputs": [
        {
          "output_type": "stream",
          "text": [
            "12\n",
            "14\n",
            "0\n",
            "0\n"
          ],
          "name": "stdout"
        }
      ]
    },
    {
      "cell_type": "markdown",
      "metadata": {
        "id": "1f7lhK_rFoKV"
      },
      "source": [
        "4. Implement a class to represent a circle, holding the radius and $x$ and $y$ coordinates of center of the object. Implement functions that compute the area and parameter of the rectangle. Make all data members private and privide accessors to retrieve values of data members. "
      ]
    },
    {
      "cell_type": "code",
      "metadata": {
        "id": "OK6pachsg__M"
      },
      "source": [
        "class circle:\n",
        "    import math\n",
        "    def __init__(self,radius,x,y):\n",
        "      self.__radius=radius\n",
        "      self.__x=x\n",
        "      self.__y=y\n",
        "    \n",
        "\n",
        "    def area(self):\n",
        "      return math.pi*(self.__radius**2)\n",
        "    \n",
        "    def perimeter(self):\n",
        "      return 2*math.pi*self.__radius\n",
        "    \n",
        "    #Accessors\n",
        "    def x(self):\n",
        "      return self.__x\n",
        "\n",
        "    def y(self):\n",
        "      return self.__y\n",
        "    \n",
        "    def radius(self):\n",
        "      return self.__radius\n",
        "    \n",
        "    "
      ],
      "execution_count": null,
      "outputs": []
    },
    {
      "cell_type": "code",
      "metadata": {
        "id": "m_UW1NG0lxgd",
        "outputId": "0f5cf4df-f018-45b3-f43c-192e786c6c51",
        "colab": {
          "base_uri": "https://localhost:8080/"
        }
      },
      "source": [
        "my_circle=circle(1,0,0)\n",
        "print(my_circle.area())\n",
        "print(my_circle.perimeter())\n",
        "print(my_circle.radius())"
      ],
      "execution_count": null,
      "outputs": [
        {
          "output_type": "stream",
          "text": [
            "3.141592653589793\n",
            "6.283185307179586\n",
            "1\n"
          ],
          "name": "stdout"
        }
      ]
    },
    {
      "cell_type": "markdown",
      "metadata": {
        "id": "wbWK2ycIFoKW"
      },
      "source": [
        "5. Implement a common base class for the classes implemented in 3 and 4 above which implements all common methods as dummy functions. Re-implement those classes to inherit from the base class and overload the functions accordingly. "
      ]
    },
    {
      "cell_type": "code",
      "metadata": {
        "id": "gMCNfW3npWTG"
      },
      "source": [
        "class shape:\n",
        "  def __init__(self, name=\"\", **kwargs):\n",
        "        self.name=name\n",
        "        self.kwargs=kwargs\n",
        "    \n",
        "  def area(self): pass\n",
        "\n",
        "  def perimeter(self): pass \n",
        "\n",
        "  def x(self): pass\n",
        "\n",
        "  def y(self): pass\n",
        "\n",
        "  def width(self): pass\n",
        "\n",
        "  def length(self): pass\n",
        "\n",
        "  def radius(self): pass\n",
        "class rectangle(shape):\n",
        "  def __init__(self,width,length,x=0,y=0):\n",
        "      self.__width=width\n",
        "      self.__length=length\n",
        "      self.__x=x\n",
        "      self.__y=y\n",
        "        \n",
        "  def area(self):\n",
        "      return self.__width*self.__length\n",
        "    \n",
        "  def perimeter(self):\n",
        "      return 2*(self.__width+self.__length)\n",
        "    #Accessors\n",
        "  def x(self):\n",
        "      return self.__x\n",
        "    \n",
        "  def y(self):\n",
        "      return self.__y\n",
        "   \n",
        "  def width(self):\n",
        "      return self.__width\n",
        "\n",
        "  def length(self):\n",
        "      return self.__length \n",
        "class circle(shape):\n",
        "    import math\n",
        "    def __init__(self,radius,x,y):\n",
        "      self.__radius=radius\n",
        "      self.__x=x\n",
        "      self.__y=y\n",
        "      \n",
        "\n",
        "    def area(self):\n",
        "      return math.pi*(self.__radius**2)\n",
        "      \n",
        "    def perimeter(self):\n",
        "      return 2*math.pi*self.__radius\n",
        "      \n",
        "      #Accessors\n",
        "    def x(self):\n",
        "      return self.__x\n",
        "\n",
        "    def y(self):\n",
        "      return self.__y\n",
        "      \n",
        "    def radius(self):\n",
        "      return self.__radius\n",
        "      "
      ],
      "execution_count": 4,
      "outputs": []
    },
    {
      "cell_type": "code",
      "metadata": {
        "id": "hIRntJKZElj4",
        "outputId": "d1190e50-5abb-44d7-a6b1-3040f1237269",
        "colab": {
          "base_uri": "https://localhost:8080/"
        }
      },
      "source": [
        "shape=rectangle(3,4)\n",
        "shape.area()"
      ],
      "execution_count": 5,
      "outputs": [
        {
          "output_type": "execute_result",
          "data": {
            "text/plain": [
              "12"
            ]
          },
          "metadata": {
            "tags": []
          },
          "execution_count": 5
        }
      ]
    },
    {
      "cell_type": "markdown",
      "metadata": {
        "id": "CHQ6ZhH1FoKW"
      },
      "source": [
        "6. Implement an analogous triangle class."
      ]
    },
    {
      "cell_type": "code",
      "metadata": {
        "id": "1C3TURy1tVNt"
      },
      "source": [
        "#I am going to assum this is a right triangle \n",
        "# x and y  coordinates correspond to the right angle corner\n",
        "#Assuming this corner is the bottom left \n",
        "class triangle:\n",
        "  import math\n",
        "  def __init__(self,base,height,x,y):\n",
        "    self.__base=base\n",
        "    self.__height=height\n",
        "    self.__x=x\n",
        "    self.__y=y\n",
        "  \n",
        "  def area(self):\n",
        "    return self.__base*self.__height*.5\n",
        "  \n",
        "  def perimeter(self):\n",
        "    return math.sqrt(self.__height**2+self.__base**2)+self.__height+self.__base\n",
        "  \n",
        "  #Accessors\n",
        "  def height(self):\n",
        "    return self.__height\n",
        "\n",
        "  def base(self):\n",
        "    return self.__base\n",
        "  \n",
        "  def x(self):\n",
        "    return self.__x\n",
        "  \n",
        "  def y(self):\n",
        "    return self.__y\n"
      ],
      "execution_count": null,
      "outputs": []
    },
    {
      "cell_type": "code",
      "metadata": {
        "id": "9gS4yX8xyGq6",
        "outputId": "31dccb28-926c-4233-aa54-65dd3de35800",
        "colab": {
          "base_uri": "https://localhost:8080/"
        }
      },
      "source": [
        "my_triangle=triangle(3,4,0,0)\n",
        "print(my_triangle.area())\n",
        "print(my_triangle.perimeter())"
      ],
      "execution_count": null,
      "outputs": [
        {
          "output_type": "stream",
          "text": [
            "6.0\n",
            "12.0\n"
          ],
          "name": "stdout"
        }
      ]
    },
    {
      "cell_type": "markdown",
      "metadata": {
        "id": "-o1YiIEtFoKX"
      },
      "source": [
        "7. Add a function to the object classes that test if a given set of $x$ and $y$ coordinates are inside of the object."
      ]
    },
    {
      "cell_type": "code",
      "metadata": {
        "id": "iQlSokn-zRpn"
      },
      "source": [
        "#Length corresponds to the change in x and Width corresponds to the change in y \n",
        "#Also I am going to be assuming that the corners given are the bottom left  \n",
        "import math\n",
        "class rectangle:\n",
        "    def __init__(self,width,length,x,y):\n",
        "        self.__width=width\n",
        "        self.__length=length\n",
        "        self.__x=x\n",
        "        self.__y=y\n",
        "        \n",
        "    def area(self):\n",
        "        return self.__width*self.__length\n",
        "    \n",
        "    def perimeter(self):\n",
        "        return 2*(self.__width+self.__length)\n",
        "    #Accessors\n",
        "    def x(self):\n",
        "        return self.__x\n",
        "    \n",
        "    def y(self):\n",
        "        return self.__y\n",
        "   \n",
        "    def width(self):\n",
        "        return self.__width\n",
        "\n",
        "    def length(self):\n",
        "        return self.__length \n",
        "    #Checking if inside. Also on the edges does not mean inside.\n",
        "    def inside(self,x,y):\n",
        "        if x<=self.__x or x>=(self.__x+self.__length):\n",
        "          return False         \n",
        "        elif y<=self.__y or y>=(self.__y+self.__width):\n",
        "          return False\n",
        "        else:\n",
        "          return True \n",
        "class circle:\n",
        "    \n",
        "    def __init__(self,radius,x,y):\n",
        "      self.__radius=radius\n",
        "      self.__x=x\n",
        "      self.__y=y\n",
        "    \n",
        "\n",
        "    def area(self):\n",
        "      return math.pi*(self.__radius**2)\n",
        "    \n",
        "    def perimeter(self):\n",
        "      return 2*math.pi*self.__radius\n",
        "    \n",
        "    #Accessors\n",
        "    def x(self):\n",
        "      return self.__x\n",
        "\n",
        "    def y(self):\n",
        "      return self.__y\n",
        "    \n",
        "    def radius(self):\n",
        "      return self.__radius\n",
        "\n",
        "    def inside(self,x,y):\n",
        "      angle=math.atan(y/x)\n",
        "      if x<=self.__x-math.cos(angle) or x>=self.__x+math.cos(angle):\n",
        "        return False\n",
        "      if y<=self.__y-math.sin(angle) or y>=self.__y+math.sin(angle):\n",
        "        return False\n",
        "      return True    \n",
        "\n",
        "class triangle:\n",
        "  import math as math \n",
        "  def __init__(self,base,height,x,y):\n",
        "    self.__base=base\n",
        "    self.__height=height\n",
        "    self.__x=x\n",
        "    self.__y=y\n",
        "  \n",
        "  def area(self):\n",
        "    return self.__base*self.__height*.5\n",
        "  \n",
        "  def perimeter(self):\n",
        "    return math.sqrt(self.__height**2+self.__base**2)+self.__height+self.__base\n",
        "  \n",
        "  #Accessors\n",
        "  def height(self):\n",
        "    return self.__height\n",
        "\n",
        "  def base(self):\n",
        "    return self.__base\n",
        "  \n",
        "  def x(self):\n",
        "    return self.__x\n",
        "  \n",
        "  def y(self):\n",
        "    return self.__y\n",
        "#Assuming that the corner given is the bottom left corner of a right triangle\n",
        " \n",
        "  def inside(self, x,y):\n",
        "    if y<=self.__y:\n",
        "      return False\n",
        "    slope= self.height/-base\n",
        "    y_hat=slope*(x-(self.__x+self.__base))+self.__y\n",
        "    #We are going to compare the expected y value based off of the given x from the point \n",
        "    #and the given y value from the point the given y value should be less than the expected\n",
        "    #same with the x value we are going to expect an x and the x value from the point should be less\n",
        "    x_hat=(y-self.__y)/slope+self.__x+self.__base\n",
        "    if y<y_hat and x<x_hat:\n",
        "      return True "
      ],
      "execution_count": 26,
      "outputs": []
    },
    {
      "cell_type": "code",
      "metadata": {
        "id": "9r6wHk-QMvf2",
        "outputId": "d2cca50e-a424-472d-f419-8ad151843dda",
        "colab": {
          "base_uri": "https://localhost:8080/"
        }
      },
      "source": [
        "m_rectangle=rectangle(3,4,0,0)\n",
        "m_rectangle.inside(4,5)\n",
        "m_circle=circle(1,0,0)\n",
        "print(m_circle.inside(2,0))\n"
      ],
      "execution_count": 28,
      "outputs": [
        {
          "output_type": "stream",
          "text": [
            "False\n"
          ],
          "name": "stdout"
        }
      ]
    },
    {
      "cell_type": "markdown",
      "metadata": {
        "id": "sY1h-IbVFoKX"
      },
      "source": [
        "*8. Add a function to the object classes that return a list of up to 16 pairs of  $x$ and $y$ points on the parameter of the object.\n",
        "\n"
      ]
    },
    {
      "cell_type": "markdown",
      "metadata": {
        "id": "n-_hoedbFoKY"
      },
      "source": [
        "9. Add a function in the base class of the object classes that returns true/false testing that the object overlaps with another object."
      ]
    }
  ]
}