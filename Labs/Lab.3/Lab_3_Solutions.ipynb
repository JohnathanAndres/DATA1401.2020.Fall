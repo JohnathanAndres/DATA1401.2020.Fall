{
  "nbformat": 4,
  "nbformat_minor": 0,
  "metadata": {
    "kernelspec": {
      "display_name": "Python 3",
      "language": "python",
      "name": "python3"
    },
    "language_info": {
      "codemirror_mode": {
        "name": "ipython",
        "version": 3
      },
      "file_extension": ".py",
      "mimetype": "text/x-python",
      "name": "python",
      "nbconvert_exporter": "python",
      "pygments_lexer": "ipython3",
      "version": "3.8.0"
    },
    "colab": {
      "name": "Lab 3 Solutions",
      "provenance": []
    }
  },
  "cells": [
    {
      "cell_type": "markdown",
      "metadata": {
        "id": "XZDqPvge43ra"
      },
      "source": [
        "# Lab 3- Tic Tac Toe\n",
        "\n",
        "[![Open In Colab](https://colab.research.google.com/assets/colab-badge.svg)](https://colab.research.google.com/github/UTA-DataScience/DATA1401.2020.Fall/blob/master/Labs/Lab.3/Lab.3.ipynb)\n",
        "\n",
        "In this lab your will build a n x n Tic Tac Toe game. As you do the exercises, make sure your solutions work for any size Tic Tac Toe game. "
      ]
    },
    {
      "cell_type": "markdown",
      "metadata": {
        "id": "PsOMGKWg43rc"
      },
      "source": [
        "*Exercise 1:* Write a function that creates an n by n matrix (of list of lists) which will represent the state of a Tie Tac Toe game. Let 0, 1, and 2 represent empty, \"X\", or \"O\".\n"
      ]
    },
    {
      "cell_type": "code",
      "metadata": {
        "id": "WMFqgkiJ43rd"
      },
      "source": [
        "# Write you solution here\n",
        "def TTT_Board(n):\n",
        "  empty=0\n",
        "  EntryX=1\n",
        "  EntryO=2\n",
        "  size=n \n",
        "  board=list()\n",
        "  for i in range(size):\n",
        "    board.append([empty]*size)\n",
        "\n",
        "  \n",
        "  return board\n",
        " "
      ],
      "execution_count": null,
      "outputs": []
    },
    {
      "cell_type": "code",
      "metadata": {
        "id": "Wmr8ImHy43rh",
        "outputId": "40529c8c-3c5f-44b8-d4bc-12b98ea207ad",
        "colab": {
          "base_uri": "https://localhost:8080/",
          "height": 54
        }
      },
      "source": [
        "# Test your solution here\n",
        "Board=TTT_Board(8)\n",
        "print(Board)\n"
      ],
      "execution_count": null,
      "outputs": [
        {
          "output_type": "stream",
          "text": [
            "[[0, 0, 0, 0, 0, 0, 0, 0], [0, 0, 0, 0, 0, 0, 0, 0], [0, 0, 0, 0, 0, 0, 0, 0], [0, 0, 0, 0, 0, 0, 0, 0], [0, 0, 0, 0, 0, 0, 0, 0], [0, 0, 0, 0, 0, 0, 0, 0], [0, 0, 0, 0, 0, 0, 0, 0], [0, 0, 0, 0, 0, 0, 0, 0]]\n"
          ],
          "name": "stdout"
        }
      ]
    },
    {
      "cell_type": "markdown",
      "metadata": {
        "id": "wt5UWL8M43rl"
      },
      "source": [
        "*Exercise 2:* Write a function that takes a `n` by `n` matrix representing a tic-tac-toe game, and returns -1, 0, 1, or 2 indicating the game is incomplete, the game is a draw, player 1 has won, or player 2 has one, respectively. Here are some example inputs you can use to test your code:"
      ]
    },
    {
      "cell_type": "code",
      "metadata": {
        "id": "G8DELYEaOYp5"
      },
      "source": [
        "#We can make the different combinations of the diagonals rows and columns into sets and if thereis a single element then check the value of an element to check who won or incomplete \n",
        "#rather than check all the elements."
      ],
      "execution_count": null,
      "outputs": []
    },
    {
      "cell_type": "code",
      "metadata": {
        "id": "sNCPOwh443rl"
      },
      "source": [
        "winner_is_2 = [[2, 2, 0],\n",
        "\t[2, 1, 0],\n",
        "\t[2, 1, 1]]\n",
        "\n",
        "winner_is_1 = [[1, 2, 0],\n",
        "\t[2, 1, 0],\n",
        "\t[2, 1, 1]]\n",
        "\n",
        "winner_is_also_1 = [[0, 1, 0],\n",
        "\t[2, 1, 0],\n",
        "\t[2, 1, 1]]\n",
        "\n",
        "no_winner = [[1, 2, 0],\n",
        "\t[2, 1, 0],\n",
        "\t[2, 1, 2]]\n",
        "\n",
        "also_no_winner = [[1, 2, 0],\n",
        "\t[2, 1, 0],\n",
        "\t[2, 1, 0]]"
      ],
      "execution_count": null,
      "outputs": []
    },
    {
      "cell_type": "code",
      "metadata": {
        "id": "1ApLw9Hh43rs"
      },
      "source": [
        "# Write you solution here\n",
        "def Result(GameBoard):\n",
        "  checkset=set()\n",
        "  incomplete=-1\n",
        "  #Check rows\n",
        "  for i in range(len(GameBoard)):\n",
        "    for j in range(len(GameBoard)):\n",
        "      checkset.add(GameBoard[i][j])\n",
        "    if len(checkset)==1:\n",
        "      if not list(checkset)[0]==0:\n",
        "        return list(checkset)[0]\n",
        "    checkset.clear()\n",
        "  #Check Columns\n",
        "  for i in range(len(GameBoard)):\n",
        "    for j in range(len(GameBoard)):\n",
        "      checkset.add(GameBoard[j][i])\n",
        "    if len(checkset)==1:\n",
        "      if not list(checkset)[0]==0:\n",
        "        return list(checkset)[0]\n",
        "    checkset.clear()\n",
        "  #Check Diagonals\n",
        "    #Top Left to Bottom Right\n",
        "  for i in range(len(GameBoard)):\n",
        "    checkset.add(GameBoard[i][i])\n",
        "  if len(checkset)==1:\n",
        "    if not list(checkset)[0]==0:\n",
        "      return list(checkset)[0]\n",
        "  checkset.clear()\n",
        "  #Check from top right to bottom left\n",
        "  for i in range(len(GameBoard)):\n",
        "    checkset.add(GameBoard[i][-(i+1)])\n",
        "  if len(checkset)==1:\n",
        "    if not list(checkset)[0]==0:\n",
        "      return list(checkset)[0]\n",
        "  \n",
        "  #Check all entries for zeroes if there are then game is incomplete otherwise tie\n",
        "  for i in range(len(GameBoard)):\n",
        "    for j in range(len(GameBoard)):\n",
        "      if GameBoard[i][j]==0:\n",
        "        return incomplete\n",
        "  return 0  \n",
        "\n",
        "\n",
        "\n",
        "\n",
        "\n",
        "      \n"
      ],
      "execution_count": null,
      "outputs": []
    },
    {
      "cell_type": "code",
      "metadata": {
        "id": "4cplSeYs43rv",
        "outputId": "ddabf2bd-df76-4f4a-cf0d-3c4135174351",
        "colab": {
          "base_uri": "https://localhost:8080/",
          "height": 101
        }
      },
      "source": [
        "# Test your solution here\n",
        "print(Result(winner_is_2))\n",
        "print(Result(winner_is_1))\n",
        "print(Result(winner_is_also_1))\n",
        "print(Result(no_winner))\n",
        "print(Result(also_no_winner))\n",
        "#I only consider a completely full game with no moves left as a tie otherwise a zero on the board is incomplete."
      ],
      "execution_count": null,
      "outputs": [
        {
          "output_type": "stream",
          "text": [
            "2\n",
            "1\n",
            "1\n",
            "-1\n",
            "-1\n"
          ],
          "name": "stdout"
        }
      ]
    },
    {
      "cell_type": "markdown",
      "metadata": {
        "id": "gicCxDqP43r1"
      },
      "source": [
        "*Exercise 3:* Write a function that takes 2 integers `n` and `m` as input and draws a `n` by `m` game board. For example the following is a 3x3 board:\n",
        "```\n",
        "   --- --- --- \n",
        "  |   |   |   | \n",
        "   --- --- ---  \n",
        "  |   |   |   | \n",
        "   --- --- ---  \n",
        "  |   |   |   | \n",
        "   --- --- --- \n",
        "   ```"
      ]
    },
    {
      "cell_type": "code",
      "metadata": {
        "id": "VVIUy14v43r2"
      },
      "source": [
        "# Write you solution here\n",
        "def physBoard(rows,columns):\n",
        "  dash = ''\n",
        "  line = '|'\n",
        "  for i in range(rows):\n",
        "    dash=dash+\" ---\"\n",
        "    line=line+\"   |\"\n",
        "  for j in range(columns):\n",
        "    print(dash)\n",
        "    print(line)\n",
        "  print(dash)\n",
        "      \n",
        "\n",
        " \n",
        "\n"
      ],
      "execution_count": null,
      "outputs": []
    },
    {
      "cell_type": "code",
      "metadata": {
        "id": "hk1-m06C43r9",
        "outputId": "469db2b1-89a9-47a7-dd15-1d8b30ab52cc",
        "colab": {
          "base_uri": "https://localhost:8080/",
          "height": 588
        }
      },
      "source": [
        "# Test your solution here\n",
        "physBoard(5,5)\n",
        "physBoard(3,3)\n",
        "physBoard(3,4)\n",
        "physBoard(4,3)"
      ],
      "execution_count": null,
      "outputs": [
        {
          "output_type": "stream",
          "text": [
            " --- --- --- --- ---\n",
            "|   |   |   |   |   |\n",
            " --- --- --- --- ---\n",
            "|   |   |   |   |   |\n",
            " --- --- --- --- ---\n",
            "|   |   |   |   |   |\n",
            " --- --- --- --- ---\n",
            "|   |   |   |   |   |\n",
            " --- --- --- --- ---\n",
            "|   |   |   |   |   |\n",
            " --- --- --- --- ---\n",
            " --- --- ---\n",
            "|   |   |   |\n",
            " --- --- ---\n",
            "|   |   |   |\n",
            " --- --- ---\n",
            "|   |   |   |\n",
            " --- --- ---\n",
            " --- --- ---\n",
            "|   |   |   |\n",
            " --- --- ---\n",
            "|   |   |   |\n",
            " --- --- ---\n",
            "|   |   |   |\n",
            " --- --- ---\n",
            "|   |   |   |\n",
            " --- --- ---\n",
            " --- --- --- ---\n",
            "|   |   |   |   |\n",
            " --- --- --- ---\n",
            "|   |   |   |   |\n",
            " --- --- --- ---\n",
            "|   |   |   |   |\n",
            " --- --- --- ---\n"
          ],
          "name": "stdout"
        }
      ]
    },
    {
      "cell_type": "markdown",
      "metadata": {
        "id": "WqZAiFjp43sA"
      },
      "source": [
        "*Exercise 4:* Modify exercise 3, so that it takes a matrix of the form from exercise 2 and draws a tic-tac-tie board with \"X\"s and \"O\"s.  "
      ]
    },
    {
      "cell_type": "code",
      "metadata": {
        "id": "DAz2xs7c43sA"
      },
      "source": [
        "# Write you solution here\n",
        "#Note player1 goes first so they take x and player takes o \n",
        "def TicTacToeVis(matrix):\n",
        "  dash = ''\n",
        "  line = '|'\n",
        "  rows=len(matrix)\n",
        "  columns=len(matrix[0])\n",
        "  for i in range(rows):\n",
        "    for k in range(columns):\n",
        "      dash=dash+\" ---\"\n",
        "      if  matrix[i][k]==1:\n",
        "        line=line+\" X |\"\n",
        "\n",
        "      if  matrix[i][k]==2:\n",
        "        line=line+\" O |\"\n",
        "      if  matrix[i][k]==0:\n",
        "        line=line+\"   |\"\n",
        "    print(dash)\n",
        "    print(line)\n",
        "    line='|' \n",
        "    dash='' \n",
        "  for i in range(columns):\n",
        "    dash=dash+' ---'\n",
        "  print(dash)"
      ],
      "execution_count": null,
      "outputs": []
    },
    {
      "cell_type": "code",
      "metadata": {
        "id": "vV8i9ZoK43sD",
        "outputId": "49459afb-b845-41db-c808-549d51331705",
        "colab": {
          "base_uri": "https://localhost:8080/",
          "height": 722
        }
      },
      "source": [
        "# Test your solution here\n",
        "#[[2, 2, 0],\n",
        "#\t[2, 1, 0],\n",
        "#\t[2, 1, 1]]\n",
        "TicTacToeVis(winner_is_2)\n",
        "TicTacToeVis(winner_is_2)\n",
        "TicTacToeVis(winner_is_1)\n",
        "TicTacToeVis(winner_is_also_1)\n",
        "TicTacToeVis(no_winner)\n",
        "TicTacToeVis(also_no_winner)"
      ],
      "execution_count": null,
      "outputs": [
        {
          "output_type": "stream",
          "text": [
            " --- --- ---\n",
            "| O | O |   |\n",
            " --- --- ---\n",
            "| O | X |   |\n",
            " --- --- ---\n",
            "| O | X | X |\n",
            " --- --- ---\n",
            " --- --- ---\n",
            "| O | O |   |\n",
            " --- --- ---\n",
            "| O | X |   |\n",
            " --- --- ---\n",
            "| O | X | X |\n",
            " --- --- ---\n",
            " --- --- ---\n",
            "| X | O |   |\n",
            " --- --- ---\n",
            "| O | X |   |\n",
            " --- --- ---\n",
            "| O | X | X |\n",
            " --- --- ---\n",
            " --- --- ---\n",
            "|   | X |   |\n",
            " --- --- ---\n",
            "| O | X |   |\n",
            " --- --- ---\n",
            "| O | X | X |\n",
            " --- --- ---\n",
            " --- --- ---\n",
            "| X | O |   |\n",
            " --- --- ---\n",
            "| O | X |   |\n",
            " --- --- ---\n",
            "| O | X | O |\n",
            " --- --- ---\n",
            " --- --- ---\n",
            "| X | O |   |\n",
            " --- --- ---\n",
            "| O | X |   |\n",
            " --- --- ---\n",
            "| O | X |   |\n",
            " --- --- ---\n"
          ],
          "name": "stdout"
        }
      ]
    },
    {
      "cell_type": "markdown",
      "metadata": {
        "id": "NjxxZ-hp43sG"
      },
      "source": [
        "*Exercise 5:* Write a function that takes a game board, player number, and `(x,y)` coordinates and places \"X\" or \"O\" in the correct location of the game board. Make sure that you only allow filling previously empty locations. Return `True` or `False` to indicate successful placement of \"X\" or \"O\"."
      ]
    },
    {
      "cell_type": "code",
      "metadata": {
        "id": "tZ77XTft43sH"
      },
      "source": [
        "# Write you solution here\n",
        "#(x,y) refers to (column ,row ) so it easily translates to a move like C2\n",
        "def move_made(matrix,playernumber,position):\n",
        "  #Check if empty\n",
        "  if matrix[list(position)[0]-1][list(position)[1]-1]==0:\n",
        "    if playernumber==1:\n",
        "      matrix[list(position)[0]-1][list(position)[1]-1]=1\n",
        "      return True\n",
        "    if playernumber==2:\n",
        "      matrix[list(position)[0]-1][list(position)[1]-1]=2\n",
        "      return True\n",
        "  else:\n",
        "    return False"
      ],
      "execution_count": null,
      "outputs": []
    },
    {
      "cell_type": "code",
      "metadata": {
        "id": "4UZCDCjf43sK",
        "outputId": "18fdfc51-7fae-4898-b2a9-9439e49c250f",
        "colab": {
          "base_uri": "https://localhost:8080/",
          "height": 437
        }
      },
      "source": [
        "# Test your solution here\n",
        "TicTacToeVis(also_no_winner)\n",
        "Truth=move_made(also_no_winner,1,(3,3))\n",
        "TicTacToeVis(also_no_winner)\n",
        "Truth\n",
        "Truth=move_made(also_no_winner,2,(3,1))\n",
        "TicTacToeVis(also_no_winner)\n",
        "Truth"
      ],
      "execution_count": null,
      "outputs": [
        {
          "output_type": "stream",
          "text": [
            "   --- --- ---\n",
            "3 | X | O |   |\n",
            "   --- --- ---\n",
            "2 | O | X |   |\n",
            "   --- --- ---\n",
            "1 | O | X | X |\n",
            "   --- --- ---\n",
            "    A   B   C   \n",
            "   --- --- ---\n",
            "3 | X | O |   |\n",
            "   --- --- ---\n",
            "2 | O | X |   |\n",
            "   --- --- ---\n",
            "1 | O | X | X |\n",
            "   --- --- ---\n",
            "    A   B   C   \n",
            "   --- --- ---\n",
            "3 | X | O |   |\n",
            "   --- --- ---\n",
            "2 | O | X |   |\n",
            "   --- --- ---\n",
            "1 | O | X | X |\n",
            "   --- --- ---\n",
            "    A   B   C   \n"
          ],
          "name": "stdout"
        },
        {
          "output_type": "execute_result",
          "data": {
            "text/plain": [
              "False"
            ]
          },
          "metadata": {
            "tags": []
          },
          "execution_count": 71
        }
      ]
    },
    {
      "cell_type": "markdown",
      "metadata": {
        "id": "wrGFnVMG43sP"
      },
      "source": [
        "*Exercise 6:* Modify Exercise 4 to show column and row labels so that players can specify location using \"A2\" or \"C1\"."
      ]
    },
    {
      "cell_type": "code",
      "metadata": {
        "id": "Dh_oCk_T43sP"
      },
      "source": [
        "# Write you solution here\n",
        "#Using letters as columns and numbers as rows \n",
        "\n",
        "def TicTacToeVis(matrix):\n",
        "  dash = '  '\n",
        "  line = '|'\n",
        "  columnlabel='    '\n",
        "  alphabet=['A','B','C','D','E','F','G','H','I','J','K','L','M','N','O','P','Q','R','S','T','U','V','W','X','Y','Z']\n",
        "  rows=len(matrix)\n",
        "  columns=len(matrix[0])\n",
        "  for i in range(rows):\n",
        "    line=str(len(matrix)-i)+' '+line\n",
        "    for k in range(columns):\n",
        "      dash=dash+\" ---\"\n",
        "      \n",
        "      if  matrix[i][k]==1:\n",
        "        line=line+\" X |\"\n",
        "\n",
        "      if  matrix[i][k]==2:\n",
        "        line=line+\" O |\"\n",
        "      if  matrix[i][k]==0:\n",
        "        line=line+\"   |\"\n",
        "    print(dash)\n",
        "    print(line)\n",
        "    line='|' \n",
        "    dash='  ' \n",
        "  for j in range(columns):\n",
        "    dash=dash+' ---'\n",
        "  print(dash)\n",
        "  for t in range(columns):\n",
        "    columnlabel=columnlabel+alphabet[t]+\"   \"\n",
        "  print(columnlabel)\n"
      ],
      "execution_count": null,
      "outputs": []
    },
    {
      "cell_type": "code",
      "metadata": {
        "id": "Rj4DlgfK43sS",
        "outputId": "ed8db400-c3f9-4560-91c0-1f83f37557ed",
        "colab": {
          "base_uri": "https://localhost:8080/",
          "height": 151
        }
      },
      "source": [
        "# Test your solution here\n",
        "TicTacToeVis(winner_is_2)"
      ],
      "execution_count": null,
      "outputs": [
        {
          "output_type": "stream",
          "text": [
            "   --- --- ---\n",
            "3 | O | O |   |\n",
            "   --- --- ---\n",
            "2 | O | X |   |\n",
            "   --- --- ---\n",
            "1 | O | X | X |\n",
            "   --- --- ---\n",
            "    A   B   C   \n"
          ],
          "name": "stdout"
        }
      ]
    },
    {
      "cell_type": "markdown",
      "metadata": {
        "id": "RlMqFqoP43sW"
      },
      "source": [
        "*Exercise 7:* Write a function that takes a board, player number, and location specified as in exercise 6 and then calls exercise 5 to correctly modify the board.  "
      ]
    },
    {
      "cell_type": "code",
      "metadata": {
        "id": "3r2PSbQ343sW"
      },
      "source": [
        "# Write you solution here"
      ],
      "execution_count": null,
      "outputs": []
    },
    {
      "cell_type": "code",
      "metadata": {
        "id": "bH0T882y43sZ"
      },
      "source": [
        "# Test your solution here"
      ],
      "execution_count": null,
      "outputs": []
    },
    {
      "cell_type": "markdown",
      "metadata": {
        "id": "E2JBiR9o43sd"
      },
      "source": [
        "*Exercise 8:* Write a function is called with a board and player number, takes input from the player using python's `input`, and modifies the board using your function from exercise 7. Note that you should keep asking for input until you have gotten a valid input that results in a valid move."
      ]
    },
    {
      "cell_type": "code",
      "metadata": {
        "id": "MIJ56bCY43se"
      },
      "source": [
        "# Write you solution here"
      ],
      "execution_count": null,
      "outputs": []
    },
    {
      "cell_type": "code",
      "metadata": {
        "id": "fltb_gKf43si"
      },
      "source": [
        "# Test your solution here"
      ],
      "execution_count": null,
      "outputs": []
    },
    {
      "cell_type": "markdown",
      "metadata": {
        "id": "KYfYmpf543sl"
      },
      "source": [
        "*Exercise 9:* Use all of the previous exercises to implement a full tic-tac-toe game, where an appropriate board is drawn, 2 players are repeatedly asked for a location coordinates of where they wish to place a mark, and the game status is checked until a player wins or a draw occurs."
      ]
    },
    {
      "cell_type": "code",
      "metadata": {
        "id": "iCd7w_Rz43sm"
      },
      "source": [
        "# Write you solution here"
      ],
      "execution_count": null,
      "outputs": []
    },
    {
      "cell_type": "code",
      "metadata": {
        "id": "bdRc1ZFN43sq"
      },
      "source": [
        "# Test your solution here"
      ],
      "execution_count": null,
      "outputs": []
    },
    {
      "cell_type": "markdown",
      "metadata": {
        "id": "kRFu8t-b43st"
      },
      "source": [
        "*Exercise 10:* Test that your game works for 5x5 Tic Tac Toe.  "
      ]
    },
    {
      "cell_type": "code",
      "metadata": {
        "id": "zy7Zx0Og43su"
      },
      "source": [
        "# Test your solution here"
      ],
      "execution_count": null,
      "outputs": []
    },
    {
      "cell_type": "markdown",
      "metadata": {
        "id": "3WEu3PoF43sy"
      },
      "source": [
        "*Exercise 11: (Extra Credit)* Develop a version of the game where one player is the computer. Note that you don't need to do an extensive seach for the best move. You can have the computer simply protect against loosing and otherwise try to win with straight or diagonal patterns."
      ]
    },
    {
      "cell_type": "code",
      "metadata": {
        "id": "RiZo-wno43sy"
      },
      "source": [
        "# Write you solution here"
      ],
      "execution_count": null,
      "outputs": []
    },
    {
      "cell_type": "code",
      "metadata": {
        "id": "qE6_duqN43s2"
      },
      "source": [
        "# Test your solution here"
      ],
      "execution_count": null,
      "outputs": []
    }
  ]
}